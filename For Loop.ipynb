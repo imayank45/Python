{
 "cells": [
  {
   "cell_type": "code",
   "execution_count": 1,
   "id": "ddc1fb9d",
   "metadata": {},
   "outputs": [
    {
     "name": "stdout",
     "output_type": "stream",
     "text": [
      "Mango\n",
      "Apple\n",
      "Banana\n",
      "Watermelon\n",
      "Pineapple\n"
     ]
    }
   ],
   "source": [
    "fruits=['Mango','Apple','Banana','Watermelon','Pineapple']\n",
    "for i in fruits:\n",
    "    print(i)"
   ]
  },
  {
   "cell_type": "code",
   "execution_count": 2,
   "id": "040b27e3",
   "metadata": {},
   "outputs": [
    {
     "name": "stdout",
     "output_type": "stream",
     "text": [
      "Dictionary Iteration\n",
      "xyz 100\n",
      "ijk 200\n"
     ]
    }
   ],
   "source": [
    "print('Dictionary Iteration')\n",
    "d=dict()\n",
    "d['xyz']=100\n",
    "d['ijk']=200\n",
    "for i in d:\n",
    "    print('%s %d' % (i,d[i]))"
   ]
  },
  {
   "cell_type": "code",
   "execution_count": 3,
   "id": "d7282fe7",
   "metadata": {
    "scrolled": true
   },
   "outputs": [
    {
     "name": "stdout",
     "output_type": "stream",
     "text": [
      "String Iteration\n",
      "M\n",
      "a\n",
      "y\n",
      "a\n",
      "n\n",
      "k\n"
     ]
    }
   ],
   "source": [
    "print('String Iteration')\n",
    "s='Mayank'\n",
    "for i in s:\n",
    "    print(i)"
   ]
  },
  {
   "cell_type": "code",
   "execution_count": 8,
   "id": "667cee1e",
   "metadata": {},
   "outputs": [
    {
     "name": "stdout",
     "output_type": "stream",
     "text": [
      "Enter a number to know multiplication table : 12\n",
      "12  *  1  =  12\n",
      "12  *  2  =  24\n",
      "12  *  3  =  36\n",
      "12  *  4  =  48\n",
      "12  *  5  =  60\n",
      "12  *  6  =  72\n",
      "12  *  7  =  84\n",
      "12  *  8  =  96\n",
      "12  *  9  =  108\n",
      "12  *  10  =  120\n"
     ]
    }
   ],
   "source": [
    "num=int(input('Enter a number to know multiplication table : '))\n",
    "for i in range(1,11):\n",
    "    print(num,' * ',i,' = ',num*i)"
   ]
  }
 ],
 "metadata": {
  "kernelspec": {
   "display_name": "Python 3 (ipykernel)",
   "language": "python",
   "name": "python3"
  },
  "language_info": {
   "codemirror_mode": {
    "name": "ipython",
    "version": 3
   },
   "file_extension": ".py",
   "mimetype": "text/x-python",
   "name": "python",
   "nbconvert_exporter": "python",
   "pygments_lexer": "ipython3",
   "version": "3.9.13"
  }
 },
 "nbformat": 4,
 "nbformat_minor": 5
}
