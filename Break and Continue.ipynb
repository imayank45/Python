{
 "cells": [
  {
   "cell_type": "code",
   "execution_count": 3,
   "id": "d19a2e80",
   "metadata": {},
   "outputs": [
    {
     "name": "stdout",
     "output_type": "stream",
     "text": [
      "Enter a number : 15\n",
      "Smallest divisor is :  3\n"
     ]
    }
   ],
   "source": [
    "#find the smallest divisor of a number such that the divisor is greater than 1.\n",
    "n=int(input('Enter a number : '))\n",
    "for x in range(2,n+1):\n",
    "    if n%x == 0:\n",
    "        print('Smallest divisor is : ',x)\n",
    "        break"
   ]
  },
  {
   "cell_type": "code",
   "execution_count": 4,
   "id": "df2f7679",
   "metadata": {},
   "outputs": [
    {
     "name": "stdout",
     "output_type": "stream",
     "text": [
      "Enter a number : 15\n",
      "3\n"
     ]
    }
   ],
   "source": [
    "#with while loop\n",
    "n=int(input('Enter a number : '))\n",
    "i=2\n",
    "while i<=2:\n",
    "    if n%x == 0:\n",
    "        print('Smallst divisor is : ',x)\n",
    "        break\n",
    "    i+=1"
   ]
  },
  {
   "cell_type": "code",
   "execution_count": 5,
   "id": "fcfdf311",
   "metadata": {},
   "outputs": [
    {
     "name": "stdout",
     "output_type": "stream",
     "text": [
      "1\n",
      "2\n",
      "3\n"
     ]
    }
   ],
   "source": [
    "i=1\n",
    "while i<=5:\n",
    "    if i==3:\n",
    "        break\n",
    "    print(i)\n",
    "    i+=1\n",
    "print(i)"
   ]
  },
  {
   "cell_type": "code",
   "execution_count": 6,
   "id": "13f4d0f3",
   "metadata": {},
   "outputs": [
    {
     "name": "stdout",
     "output_type": "stream",
     "text": [
      "16\n",
      "17\n",
      "18\n",
      "19\n"
     ]
    }
   ],
   "source": [
    "l=[10,16,17,18,19,15]\n",
    "for i in l:\n",
    "    if i%5==0:\n",
    "        continue\n",
    "    print(i)"
   ]
  },
  {
   "cell_type": "code",
   "execution_count": 10,
   "id": "e186492a",
   "metadata": {},
   "outputs": [
    {
     "name": "stdout",
     "output_type": "stream",
     "text": [
      "16\n",
      "17\n",
      "18\n",
      "9\n",
      "Bye:)\n"
     ]
    }
   ],
   "source": [
    "l=[10,16,17,18,9,15,21,13]\n",
    "for x in l:\n",
    "    if x%5 == 0:\n",
    "        continue\n",
    "    if x%7 == 0:\n",
    "        break\n",
    "    print(x)\n",
    "print('Bye:)')"
   ]
  },
  {
   "cell_type": "code",
   "execution_count": null,
   "id": "2f58369a",
   "metadata": {},
   "outputs": [],
   "source": []
  }
 ],
 "metadata": {
  "kernelspec": {
   "display_name": "Python 3 (ipykernel)",
   "language": "python",
   "name": "python3"
  },
  "language_info": {
   "codemirror_mode": {
    "name": "ipython",
    "version": 3
   },
   "file_extension": ".py",
   "mimetype": "text/x-python",
   "name": "python",
   "nbconvert_exporter": "python",
   "pygments_lexer": "ipython3",
   "version": "3.9.13"
  }
 },
 "nbformat": 4,
 "nbformat_minor": 5
}
