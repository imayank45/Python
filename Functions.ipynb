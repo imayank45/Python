{
 "cells": [
  {
   "cell_type": "code",
   "execution_count": 2,
   "id": "befc9dbe",
   "metadata": {},
   "outputs": [
    {
     "name": "stdout",
     "output_type": "stream",
     "text": [
      "Before calling function\n",
      "Function called\n",
      "After calling function\n"
     ]
    }
   ],
   "source": [
    "def fun():\n",
    "    print('Function called')\n",
    "print('Before calling function')\n",
    "fun()\n",
    "print('After calling function')"
   ]
  },
  {
   "cell_type": "code",
   "execution_count": 4,
   "id": "d8fbdd0b",
   "metadata": {},
   "outputs": [
    {
     "name": "stdout",
     "output_type": "stream",
     "text": [
      "India became independent on\n",
      "15 08 1947\n"
     ]
    }
   ],
   "source": [
    "def printdate():\n",
    "    print(d,m,y,sep='-')\n",
    "print('India became independent on')\n",
    "print('15','08','1947')"
   ]
  },
  {
   "cell_type": "code",
   "execution_count": 6,
   "id": "2332a0ff",
   "metadata": {},
   "outputs": [
    {
     "name": "stdout",
     "output_type": "stream",
     "text": [
      "India became independent on\n",
      "15-08-1947\n"
     ]
    }
   ],
   "source": [
    "def printdate(d,m,y):\n",
    "    return d+'-'+m+'-'+y\n",
    "print('India became independent on')\n",
    "d=printdate('15','08','1947')\n",
    "print(d)"
   ]
  },
  {
   "cell_type": "code",
   "execution_count": 7,
   "id": "fd513ecb",
   "metadata": {},
   "outputs": [
    {
     "name": "stdout",
     "output_type": "stream",
     "text": [
      "Hi\n",
      "Mayank welcome you all\n",
      "Hope you are enjoying\n",
      "Please visit again\n",
      "Bye\n"
     ]
    }
   ],
   "source": [
    "def greetMsg():\n",
    "    print('Hi')\n",
    "    print('Mayank welcome you all')\n",
    "def exitMsg():\n",
    "    print('Please visit again')\n",
    "    print('Bye')\n",
    "greetMsg()\n",
    "print('Hope you are enjoying')\n",
    "exitMsg()"
   ]
  },
  {
   "cell_type": "code",
   "execution_count": null,
   "id": "6228fb8a",
   "metadata": {},
   "outputs": [],
   "source": []
  }
 ],
 "metadata": {
  "kernelspec": {
   "display_name": "Python 3 (ipykernel)",
   "language": "python",
   "name": "python3"
  },
  "language_info": {
   "codemirror_mode": {
    "name": "ipython",
    "version": 3
   },
   "file_extension": ".py",
   "mimetype": "text/x-python",
   "name": "python",
   "nbconvert_exporter": "python",
   "pygments_lexer": "ipython3",
   "version": "3.9.13"
  }
 },
 "nbformat": 4,
 "nbformat_minor": 5
}
