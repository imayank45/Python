{
 "cells": [
  {
   "cell_type": "markdown",
   "id": "29b91e4c",
   "metadata": {},
   "source": [
    "# Data Structures in Python"
   ]
  },
  {
   "cell_type": "markdown",
   "id": "156bdc06",
   "metadata": {},
   "source": [
    "## List"
   ]
  },
  {
   "cell_type": "code",
   "execution_count": 2,
   "id": "7cf5fb69",
   "metadata": {},
   "outputs": [
    {
     "name": "stdout",
     "output_type": "stream",
     "text": [
      "[10, 20, 30, 40, 50]\n",
      "30\n",
      "50\n",
      "40\n"
     ]
    }
   ],
   "source": [
    "l=[10,20,30,40,50]\n",
    "print(l)\n",
    "print(l[2])\n",
    "print(l[-1])\n",
    "print(l[-2])"
   ]
  },
  {
   "cell_type": "code",
   "execution_count": 8,
   "id": "44a95a09",
   "metadata": {},
   "outputs": [
    {
     "name": "stdout",
     "output_type": "stream",
     "text": [
      "[10, 20, 30, 40, 50, 30]\n",
      "[10, 15, 20, 30, 40, 50, 30]\n",
      "True\n",
      "2\n",
      "3\n"
     ]
    }
   ],
   "source": [
    "l=[10,20,30,40,50]\n",
    "l.append(30)\n",
    "print(l)\n",
    "l.insert(1,15)\n",
    "print(l)\n",
    "print(15 in l)\n",
    "print(l.count(30))\n",
    "print(l.index(30))"
   ]
  },
  {
   "cell_type": "code",
   "execution_count": 12,
   "id": "f90cdcb3",
   "metadata": {},
   "outputs": [
    {
     "name": "stdout",
     "output_type": "stream",
     "text": [
      "[10, 30, 40, 50, 60, 70, 80]\n",
      "30\n",
      "[10, 40, 50, 60, 70, 80]\n",
      "[10, 50, 60, 70, 80]\n",
      "[60, 70, 80]\n"
     ]
    }
   ],
   "source": [
    "l=[10,20,30,40,50,60,70,80]\n",
    "l.remove(20)\n",
    "print(l)\n",
    "print(l.pop(1))\n",
    "print(l)\n",
    "del l[1]\n",
    "print(l)\n",
    "del l[0:2]\n",
    "print(l)"
   ]
  },
  {
   "cell_type": "code",
   "execution_count": 17,
   "id": "5c03564a",
   "metadata": {},
   "outputs": [
    {
     "name": "stdout",
     "output_type": "stream",
     "text": [
      "50\n",
      "10\n",
      "[50, 20, 40, 10]\n",
      "[10, 20, 40, 50]\n"
     ]
    }
   ],
   "source": [
    "l=[10,40,20,50]\n",
    "print(max(l))\n",
    "print(min(l))\n",
    "l.reverse()\n",
    "print(l)\n",
    "l.sort()\n",
    "print(l)"
   ]
  },
  {
   "cell_type": "markdown",
   "id": "882ee9c2",
   "metadata": {},
   "source": [
    "## Tuples"
   ]
  },
  {
   "cell_type": "code",
   "execution_count": 22,
   "id": "2bdd31c1",
   "metadata": {},
   "outputs": [
    {
     "name": "stdout",
     "output_type": "stream",
     "text": [
      "(10, 20, 'geek')\n",
      "()\n",
      "<class 'int'>\n",
      "<class 'tuple'>\n"
     ]
    }
   ],
   "source": [
    "t=(10,20,'geek')\n",
    "print(t)\n",
    "t=()\n",
    "print(t)\n",
    "t=(10)\n",
    "print(type(t))\n",
    "t=(10,)\n",
    "print(type(t))"
   ]
  },
  {
   "cell_type": "code",
   "execution_count": 28,
   "id": "d2233989",
   "metadata": {},
   "outputs": [
    {
     "name": "stdout",
     "output_type": "stream",
     "text": [
      "(10, 20, 30, 40, 10)\n",
      "30\n",
      "10\n",
      "5\n",
      "2\n",
      "1\n"
     ]
    }
   ],
   "source": [
    "t=10,20,30,40,10\n",
    "print(t)\n",
    "print(t[2])\n",
    "print(t[-1])\n",
    "print(len(t))\n",
    "print(t.count(10))\n",
    "print(t.index(20))"
   ]
  },
  {
   "cell_type": "markdown",
   "id": "efea7ade",
   "metadata": {},
   "source": [
    "## Sets"
   ]
  },
  {
   "cell_type": "code",
   "execution_count": 32,
   "id": "63c317b3",
   "metadata": {},
   "outputs": [
    {
     "name": "stdout",
     "output_type": "stream",
     "text": [
      "{10, 20, 30}\n",
      "{40, 20, 30}\n",
      "<class 'dict'>\n",
      "<class 'set'>\n"
     ]
    }
   ],
   "source": [
    "s1={10,20,30}\n",
    "print(s1)\n",
    "s2=set([20,30,40])\n",
    "print(s2)\n",
    "s3={}\n",
    "print(type(s3))\n",
    "s4=set()\n",
    "print(type(s4))"
   ]
  },
  {
   "cell_type": "code",
   "execution_count": 36,
   "id": "5dd6bd32",
   "metadata": {},
   "outputs": [
    {
     "name": "stdout",
     "output_type": "stream",
     "text": [
      "{10, 20, 30}\n",
      "{10, 20, 30}\n",
      "{40, 10, 50, 20, 30}\n",
      "{70, 40, 10, 80, 50, 20, 90, 60, 30}\n"
     ]
    }
   ],
   "source": [
    "s={10,20}\n",
    "s.add(30)\n",
    "print(s)\n",
    "s.add(30)\n",
    "print(s)\n",
    "s.update([40,50])\n",
    "print(s)\n",
    "s.update([60,70],{80,90})\n",
    "print(s)"
   ]
  },
  {
   "cell_type": "code",
   "execution_count": 44,
   "id": "82d615d9",
   "metadata": {},
   "outputs": [
    {
     "name": "stdout",
     "output_type": "stream",
     "text": [
      "{40, 10, 20}\n",
      "{40, 10}\n",
      "set()\n",
      "{50}\n"
     ]
    }
   ],
   "source": [
    "s={10,30,20,40}\n",
    "s.discard(30)\n",
    "print(s)\n",
    "s.remove(20)\n",
    "print(s)\n",
    "s.clear()\n",
    "print(s)\n",
    "s.add(50)\n",
    "print(s)\n",
    "del s\n"
   ]
  },
  {
   "cell_type": "code",
   "execution_count": 45,
   "id": "174544eb",
   "metadata": {},
   "outputs": [
    {
     "name": "stdout",
     "output_type": "stream",
     "text": [
      "4\n",
      "True\n",
      "False\n"
     ]
    }
   ],
   "source": [
    "s={10,20,30,40}\n",
    "print(len(s))\n",
    "print(20 in s)\n",
    "print(50 in s)"
   ]
  },
  {
   "cell_type": "code",
   "execution_count": 50,
   "id": "9d528549",
   "metadata": {},
   "outputs": [
    {
     "name": "stdout",
     "output_type": "stream",
     "text": [
      "{2, 3, 4, 6, 8, 9}\n",
      "{6}\n",
      "{8, 2, 4}\n",
      "{2, 3, 4, 8, 9}\n"
     ]
    }
   ],
   "source": [
    "s1={2,4,6,8}\n",
    "s2={3,6,9}\n",
    "print(s1|s2)\n",
    "print(s1&s2)\n",
    "print(s1-s2)\n",
    "print(s1^s2)"
   ]
  },
  {
   "cell_type": "code",
   "execution_count": 52,
   "id": "fe379731",
   "metadata": {},
   "outputs": [
    {
     "name": "stdout",
     "output_type": "stream",
     "text": [
      "False\n",
      "False\n",
      "False\n",
      "True\n",
      "True\n"
     ]
    }
   ],
   "source": [
    "s1={2,4,6,8}\n",
    "s2={4,8}\n",
    "print(s1.isdisjoint(s2))\n",
    "print(s1<=s2)\n",
    "print(s1<s2)\n",
    "print(s1>s2)\n",
    "print(s1>=s2)"
   ]
  },
  {
   "cell_type": "markdown",
   "id": "0a8b29aa",
   "metadata": {},
   "source": [
    "## Dictionary"
   ]
  },
  {
   "cell_type": "code",
   "execution_count": 55,
   "id": "80c92b3b",
   "metadata": {},
   "outputs": [
    {
     "name": "stdout",
     "output_type": "stream",
     "text": [
      "{110: 'abc', 101: 'xyz', 105: 'pqr'}\n",
      "{'apple': 10000, 'mango': 20000, 'banana': 9500}\n",
      "20000\n"
     ]
    }
   ],
   "source": [
    "d={110:'abc',101:'xyz',105:'pqr'}\n",
    "print(d)\n",
    "d={}\n",
    "d['apple']=10000\n",
    "d['mango']=20000\n",
    "d['banana']=9500\n",
    "print(d)\n",
    "print(d['mango'])"
   ]
  },
  {
   "cell_type": "code",
   "execution_count": 57,
   "id": "94718879",
   "metadata": {},
   "outputs": [
    {
     "name": "stdout",
     "output_type": "stream",
     "text": [
      "xyz\n",
      "None\n",
      "N/A\n",
      "N/A\n"
     ]
    }
   ],
   "source": [
    "d={110:'abc',101:'xyz',105:'pqr'}\n",
    "print(d.get(101))\n",
    "print(d.get(125))\n",
    "print(d.get(125,'N/A'))\n",
    "if 125 in d:\n",
    "    print(d[125])\n",
    "else:\n",
    "    print('N/A')"
   ]
  },
  {
   "cell_type": "code",
   "execution_count": 66,
   "id": "f038859a",
   "metadata": {},
   "outputs": [
    {
     "name": "stdout",
     "output_type": "stream",
     "text": [
      "{110: 'abc', 101: 'ijk', 105: 'pqr', 106: 'bcd'}\n",
      "pqr\n",
      "{110: 'abc', 101: 'ijk', 106: 'bcd'}\n",
      "{110: 'abc', 101: 'ijk'}\n",
      "{110: 'abc', 101: 'ijk', 108: 'efg'}\n",
      "(108, 'efg')\n",
      "{110: 'abc', 101: 'ijk'}\n"
     ]
    }
   ],
   "source": [
    "d={110:'abc',101:'xyz',105:'pqr',106:'bcd'}\n",
    "d[101]='ijk'\n",
    "print(d)\n",
    "print(d.pop(105))\n",
    "print(d)\n",
    "del d[106]\n",
    "print(d)\n",
    "d[108]='efg'\n",
    "print(d)\n",
    "print(d.popitem())\n",
    "print(d)"
   ]
  },
  {
   "cell_type": "markdown",
   "id": "eeb26364",
   "metadata": {},
   "source": [
    "## Slicing"
   ]
  },
  {
   "cell_type": "code",
   "execution_count": 72,
   "id": "c71344f0",
   "metadata": {},
   "outputs": [
    {
     "name": "stdout",
     "output_type": "stream",
     "text": [
      "[10, 30, 50]\n",
      "[10, 20, 30, 40]\n",
      "[30, 40, 50]\n",
      "[20, 30, 40]\n",
      "[50, 40, 30]\n",
      "[50, 40, 30, 20, 10]\n",
      "[50, 40, 30, 20, 10]\n"
     ]
    }
   ],
   "source": [
    "l=[10,20,30,40,50]\n",
    "print(l[0:5:2])\n",
    "print(l[:4])\n",
    "print(l[2:])\n",
    "print(l[1:4])\n",
    "print(l[4:1:-1])\n",
    "print(l[-1:-6:-1])\n",
    "print(l[::-1])"
   ]
  },
  {
   "cell_type": "code",
   "execution_count": 74,
   "id": "e4135946",
   "metadata": {},
   "outputs": [
    {
     "name": "stdout",
     "output_type": "stream",
     "text": [
      "False\n",
      "True\n",
      "True\n"
     ]
    }
   ],
   "source": [
    "l1=[10,20,30]\n",
    "l2=l1[:]\n",
    "t1=(10,20,30)\n",
    "t2=t1[:]\n",
    "s1='geeks'\n",
    "s2=s1[:]\n",
    "print(l1 is l2)\n",
    "print(t1 is t2)\n",
    "print(s1 is s2)"
   ]
  },
  {
   "cell_type": "markdown",
   "id": "90968c1b",
   "metadata": {},
   "source": [
    "## Comprehensions"
   ]
  },
  {
   "cell_type": "code",
   "execution_count": 76,
   "id": "d5dd46c1",
   "metadata": {},
   "outputs": [
    {
     "name": "stdout",
     "output_type": "stream",
     "text": [
      "[0, 2, 4, 6, 8, 10]\n",
      "[1, 3, 5, 7, 9]\n"
     ]
    }
   ],
   "source": [
    "l1=[x for x in range(11) if x%2==0]\n",
    "print(l1)\n",
    "l2=[x for x in range(11) if x%2!=0]\n",
    "print(l2)"
   ]
  },
  {
   "cell_type": "code",
   "execution_count": 79,
   "id": "9b305a77",
   "metadata": {},
   "outputs": [
    {
     "name": "stdout",
     "output_type": "stream",
     "text": [
      "[1, 5, 2]\n"
     ]
    }
   ],
   "source": [
    "def getsmaller(l,x):\n",
    "    return [e for e in l if e<x]\n",
    "l=[1,5,33,67,2]\n",
    "x=10\n",
    "print(getsmaller(l,x))"
   ]
  },
  {
   "cell_type": "code",
   "execution_count": 80,
   "id": "310f1129",
   "metadata": {},
   "outputs": [
    {
     "name": "stdout",
     "output_type": "stream",
     "text": [
      "['e', 'e', 'o', 'e', 'e']\n"
     ]
    }
   ],
   "source": [
    "s='geeksforgeeks'\n",
    "l1=[x for x in s if x in 'aeiou']\n",
    "print(l1)"
   ]
  },
  {
   "cell_type": "code",
   "execution_count": 82,
   "id": "f4dc8cd5",
   "metadata": {},
   "outputs": [
    {
     "name": "stdout",
     "output_type": "stream",
     "text": [
      "{1: 1, 3: 27, 4: 64, 2: 8, 5: 125}\n"
     ]
    }
   ],
   "source": [
    "l1=[1,3,4,2,5]\n",
    "d1={x:x**3 for x in l1}\n",
    "print(d1)"
   ]
  },
  {
   "cell_type": "code",
   "execution_count": 86,
   "id": "e31e18f2",
   "metadata": {},
   "outputs": [
    {
     "name": "stdout",
     "output_type": "stream",
     "text": [
      "{1: 'apple', 3: 'mango', 4: 'banana'}\n"
     ]
    }
   ],
   "source": [
    "l1=[1,3,4]\n",
    "l3=['apple', 'mango', 'banana']\n",
    "d3=dict(zip(l1,l3))\n",
    "print(d3)"
   ]
  },
  {
   "cell_type": "code",
   "execution_count": null,
   "id": "ff9c8ac3",
   "metadata": {},
   "outputs": [],
   "source": []
  }
 ],
 "metadata": {
  "kernelspec": {
   "display_name": "Python 3 (ipykernel)",
   "language": "python",
   "name": "python3"
  },
  "language_info": {
   "codemirror_mode": {
    "name": "ipython",
    "version": 3
   },
   "file_extension": ".py",
   "mimetype": "text/x-python",
   "name": "python",
   "nbconvert_exporter": "python",
   "pygments_lexer": "ipython3",
   "version": "3.9.13"
  }
 },
 "nbformat": 4,
 "nbformat_minor": 5
}
