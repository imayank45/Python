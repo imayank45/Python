{
 "cells": [
  {
   "cell_type": "markdown",
   "id": "2b70dbcb",
   "metadata": {},
   "source": [
    "# Strings in Python"
   ]
  },
  {
   "cell_type": "code",
   "execution_count": 1,
   "id": "733d9249",
   "metadata": {},
   "outputs": [
    {
     "name": "stdout",
     "output_type": "stream",
     "text": [
      "97\n",
      "65\n",
      "a\n",
      "A\n"
     ]
    }
   ],
   "source": [
    "print(ord('a'))\n",
    "print(ord('A'))\n",
    "print(chr(97))\n",
    "print(chr(65))"
   ]
  },
  {
   "cell_type": "code",
   "execution_count": 2,
   "id": "73a6e499",
   "metadata": {},
   "outputs": [
    {
     "name": "stdout",
     "output_type": "stream",
     "text": [
      "mayank\n",
      "m\n",
      "k\n",
      "a\n",
      "n\n"
     ]
    }
   ],
   "source": [
    "s='mayank'\n",
    "print(s)\n",
    "print(s[0])\n",
    "print(s[-1])\n",
    "print(s[1])\n",
    "print(s[-2])"
   ]
  },
  {
   "cell_type": "code",
   "execution_count": 3,
   "id": "a7c1dae0",
   "metadata": {},
   "outputs": [
    {
     "ename": "TypeError",
     "evalue": "'str' object does not support item assignment",
     "output_type": "error",
     "traceback": [
      "\u001b[1;31m---------------------------------------------------------------------------\u001b[0m",
      "\u001b[1;31mTypeError\u001b[0m                                 Traceback (most recent call last)",
      "\u001b[1;32m~\\AppData\\Local\\Temp\\ipykernel_16188\\2479211711.py\u001b[0m in \u001b[0;36m<module>\u001b[1;34m\u001b[0m\n\u001b[0;32m      1\u001b[0m \u001b[1;31m#strings are immutable\u001b[0m\u001b[1;33m\u001b[0m\u001b[1;33m\u001b[0m\u001b[0m\n\u001b[0;32m      2\u001b[0m \u001b[0ms\u001b[0m\u001b[1;33m=\u001b[0m\u001b[1;34m'geeks'\u001b[0m\u001b[1;33m\u001b[0m\u001b[1;33m\u001b[0m\u001b[0m\n\u001b[1;32m----> 3\u001b[1;33m \u001b[0ms\u001b[0m\u001b[1;33m[\u001b[0m\u001b[1;36m0\u001b[0m\u001b[1;33m]\u001b[0m\u001b[1;33m=\u001b[0m\u001b[1;34m'e'\u001b[0m\u001b[1;33m\u001b[0m\u001b[1;33m\u001b[0m\u001b[0m\n\u001b[0m\u001b[0;32m      4\u001b[0m \u001b[0mprint\u001b[0m\u001b[1;33m(\u001b[0m\u001b[0ms\u001b[0m\u001b[1;33m)\u001b[0m\u001b[1;33m\u001b[0m\u001b[1;33m\u001b[0m\u001b[0m\n",
      "\u001b[1;31mTypeError\u001b[0m: 'str' object does not support item assignment"
     ]
    }
   ],
   "source": [
    "#strings are immutable\n",
    "s='geeks'\n",
    "s[0]='e'\n",
    "print(s)"
   ]
  },
  {
   "cell_type": "code",
   "execution_count": 4,
   "id": "665988af",
   "metadata": {},
   "outputs": [
    {
     "name": "stdout",
     "output_type": "stream",
     "text": [
      "Good Better Best,\n",
      "Love Is Waste\n"
     ]
    }
   ],
   "source": [
    "s='''Good Better Best,\n",
    "Love Is Waste'''\n",
    "print(s)"
   ]
  },
  {
   "cell_type": "markdown",
   "id": "c11b4457",
   "metadata": {},
   "source": [
    "## Escape sequences and raw strings"
   ]
  },
  {
   "cell_type": "code",
   "execution_count": 5,
   "id": "4601d16e",
   "metadata": {},
   "outputs": [
    {
     "name": "stdout",
     "output_type": "stream",
     "text": [
      "Welcome to Mayank's world.\n"
     ]
    }
   ],
   "source": [
    "s='Welcome to Mayank\\'s world.'\n",
    "print(s)"
   ]
  },
  {
   "cell_type": "code",
   "execution_count": 7,
   "id": "4b4381a2",
   "metadata": {},
   "outputs": [
    {
     "name": "stdout",
     "output_type": "stream",
     "text": [
      "Hi, \n",
      "Welcome to the reality.\n"
     ]
    }
   ],
   "source": [
    "s='Hi, \\nWelcome to the reality.'\n",
    "print(s)"
   ]
  },
  {
   "cell_type": "code",
   "execution_count": 9,
   "id": "b32891f8",
   "metadata": {},
   "outputs": [
    {
     "name": "stdout",
     "output_type": "stream",
     "text": [
      "A simple \\ example\n",
      "Backslash at the end \\\n",
      "\\n\n",
      "\\t\n"
     ]
    }
   ],
   "source": [
    "s1='A simple \\ example'\n",
    "s2='Backslash at the end \\\\'\n",
    "s3='\\\\n'\n",
    "s4='\\\\t'\n",
    "print(s1)\n",
    "print(s2)\n",
    "print(s3)\n",
    "print(s4)"
   ]
  },
  {
   "cell_type": "code",
   "execution_count": 11,
   "id": "ae7e8580",
   "metadata": {},
   "outputs": [
    {
     "name": "stdout",
     "output_type": "stream",
     "text": [
      "c:\\project\n",
      "mk.py\n",
      "\n",
      "c:\\project\\nmk.py\n"
     ]
    }
   ],
   "source": [
    "s1='c:\\project\\nmk.py'\n",
    "s2=r'c:\\project\\nmk.py'\n",
    "print(s1)\n",
    "print()\n",
    "print(s2)"
   ]
  },
  {
   "cell_type": "markdown",
   "id": "f4454f65",
   "metadata": {},
   "source": [
    "## String operations"
   ]
  },
  {
   "cell_type": "code",
   "execution_count": 13,
   "id": "eed233ab",
   "metadata": {},
   "outputs": [
    {
     "name": "stdout",
     "output_type": "stream",
     "text": [
      "True\n",
      "False\n"
     ]
    }
   ],
   "source": [
    "s1='mayankkathanemayank'\n",
    "s2='mayank'\n",
    "print(s2 in s1)\n",
    "print(s2 not in s1)"
   ]
  },
  {
   "cell_type": "code",
   "execution_count": 15,
   "id": "9b221225",
   "metadata": {},
   "outputs": [
    {
     "name": "stdout",
     "output_type": "stream",
     "text": [
      "Welcome to  INDIA\n",
      "mayank kathane\n"
     ]
    }
   ],
   "source": [
    "s1='Mayank'\n",
    "s2=' kathane'\n",
    "s3=s1+s2\n",
    "s4='INDIA'\n",
    "print('Welcome to ',s4)\n",
    "print(s3)"
   ]
  },
  {
   "cell_type": "code",
   "execution_count": 38,
   "id": "f3828dd3",
   "metadata": {},
   "outputs": [
    {
     "name": "stdout",
     "output_type": "stream",
     "text": [
      "0\n",
      "13\n",
      "13\n",
      "13\n"
     ]
    }
   ],
   "source": [
    "s1='mayankkathanemayank'\n",
    "s2='mayank'\n",
    "print(s1.index(s2))\n",
    "print(s1.rindex(s2))\n",
    "print(s1.rindex(s2,0,19))\n",
    "print(s1.rindex(s2,1,19))"
   ]
  },
  {
   "cell_type": "code",
   "execution_count": 20,
   "id": "9ec71583",
   "metadata": {},
   "outputs": [
    {
     "name": "stdout",
     "output_type": "stream",
     "text": [
      "6\n",
      "MAYANK\n",
      "mayank\n",
      "False\n",
      "True\n"
     ]
    }
   ],
   "source": [
    "s1='Mayank'\n",
    "print(len(s1))\n",
    "s2=s1.upper()\n",
    "print(s2)\n",
    "s3=s2.lower()\n",
    "print(s3)\n",
    "print(s1.islower())\n",
    "print(s2.isupper())"
   ]
  },
  {
   "cell_type": "code",
   "execution_count": 22,
   "id": "d29623cc",
   "metadata": {},
   "outputs": [
    {
     "name": "stdout",
     "output_type": "stream",
     "text": [
      "True\n",
      "True\n",
      "False\n",
      "False\n"
     ]
    }
   ],
   "source": [
    "s='Mayank Kathane'\n",
    "print(s.startswith('Mayank'))\n",
    "print(s.endswith('Kathane'))\n",
    "print(s.startswith('Mayank',1))\n",
    "print(s.startswith('Mayank',8,len(s)))\n"
   ]
  },
  {
   "cell_type": "code",
   "execution_count": 27,
   "id": "075370fe",
   "metadata": {},
   "outputs": [
    {
     "name": "stdout",
     "output_type": "stream",
     "text": [
      "['Good', 'morning', 'to', 'all', 'of', 'you']\n",
      "['Good', ' morning', ' to', ' all', ' of', ' you']\n",
      "I Love India\n",
      "I, Love, India\n"
     ]
    }
   ],
   "source": [
    "s1='Good morning to all of you'\n",
    "print(s1.split())\n",
    "s1='Good, morning, to, all, of, you'\n",
    "print(s1.split(','))\n",
    "l=['I','Love','India']\n",
    "print(' '.join(l))\n",
    "print(', '.join(l))"
   ]
  },
  {
   "cell_type": "code",
   "execution_count": 32,
   "id": "8aa6eb7e",
   "metadata": {},
   "outputs": [
    {
     "name": "stdout",
     "output_type": "stream",
     "text": [
      "mayank\n",
      "mayank---\n",
      "---mayank\n"
     ]
    }
   ],
   "source": [
    "str='---mayank---'\n",
    "print(str.strip('-'))\n",
    "print(str.lstrip('-'))\n",
    "print(str.rstrip('-'))"
   ]
  },
  {
   "cell_type": "code",
   "execution_count": 35,
   "id": "7ac9973d",
   "metadata": {},
   "outputs": [
    {
     "name": "stdout",
     "output_type": "stream",
     "text": [
      "0\n",
      "-1\n",
      "10\n"
     ]
    }
   ],
   "source": [
    "s1='humans of humans'\n",
    "s2='humans'\n",
    "print(s1.find(s2))\n",
    "print(s1.find('mkk'))\n",
    "print(s1.find(s2,1,len(s1)))"
   ]
  },
  {
   "cell_type": "markdown",
   "id": "ba365ca0",
   "metadata": {},
   "source": [
    "## String comparision in Python"
   ]
  },
  {
   "cell_type": "code",
   "execution_count": 40,
   "id": "64585a70",
   "metadata": {},
   "outputs": [
    {
     "name": "stdout",
     "output_type": "stream",
     "text": [
      "True\n",
      "True\n",
      "False\n",
      "False\n",
      "False\n",
      "True\n"
     ]
    }
   ],
   "source": [
    "s1='Jupyter'\n",
    "s2='Notebook'\n",
    "print(s1<s2)\n",
    "print(s1<=s2)\n",
    "print(s1>=s2)\n",
    "print(s1>s2)\n",
    "print(s1==s2)\n",
    "print(s1!=s2)"
   ]
  },
  {
   "cell_type": "markdown",
   "id": "81bda846",
   "metadata": {},
   "source": [
    "## Pattern searching in python"
   ]
  },
  {
   "cell_type": "code",
   "execution_count": 74,
   "id": "26e3f8e5",
   "metadata": {},
   "outputs": [
    {
     "name": "stdout",
     "output_type": "stream",
     "text": [
      "Enter text : hello\n",
      "Enter pattern : llo\n",
      "2\n"
     ]
    }
   ],
   "source": [
    "txt=input('Enter text : ')\n",
    "pat=input('Enter pattern : ')\n",
    "pos=txt.find(pat)\n",
    "while pos>=0:\n",
    "    print(pos)\n",
    "    pos=txt.find(pat,pos+1)"
   ]
  },
  {
   "cell_type": "code",
   "execution_count": null,
   "id": "e4dcab78",
   "metadata": {},
   "outputs": [],
   "source": []
  }
 ],
 "metadata": {
  "kernelspec": {
   "display_name": "Python 3 (ipykernel)",
   "language": "python",
   "name": "python3"
  },
  "language_info": {
   "codemirror_mode": {
    "name": "ipython",
    "version": 3
   },
   "file_extension": ".py",
   "mimetype": "text/x-python",
   "name": "python",
   "nbconvert_exporter": "python",
   "pygments_lexer": "ipython3",
   "version": "3.9.13"
  }
 },
 "nbformat": 4,
 "nbformat_minor": 5
}
