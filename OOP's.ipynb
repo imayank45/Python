{
 "cells": [
  {
   "cell_type": "markdown",
   "id": "08eaaf24",
   "metadata": {},
   "source": [
    "# Object Oriented Programming"
   ]
  },
  {
   "cell_type": "markdown",
   "id": "e019298b",
   "metadata": {},
   "source": [
    "## Classes and Objects"
   ]
  },
  {
   "cell_type": "code",
   "execution_count": 3,
   "id": "8281e14c",
   "metadata": {},
   "outputs": [
    {
     "name": "stdout",
     "output_type": "stream",
     "text": [
      "10+i20\n",
      "40+i40\n",
      "50+i60\n"
     ]
    }
   ],
   "source": [
    "class Complex:\n",
    "    def __init__(self,real,imag):\n",
    "        self.real=real\n",
    "        self.imag=imag\n",
    "    def print(self):\n",
    "        print(str(self.real)+'+i'+str(self.imag))\n",
    "    def add(self,c):\n",
    "        self.real+=c.real\n",
    "        self.imag+=c.imag\n",
    "c1=Complex(10,20)\n",
    "c1.print()\n",
    "c2=Complex(40,40)\n",
    "c2.print()\n",
    "c1.add(c2)\n",
    "c1.print()"
   ]
  },
  {
   "cell_type": "markdown",
   "id": "b3ca1fa6",
   "metadata": {},
   "source": [
    "## Class and Instance Attributes"
   ]
  },
  {
   "cell_type": "code",
   "execution_count": 5,
   "id": "c12529a1",
   "metadata": {},
   "outputs": [
    {
     "name": "stdout",
     "output_type": "stream",
     "text": [
      "Amazon\n",
      "101\n",
      "Amazon\n"
     ]
    }
   ],
   "source": [
    "class Employee:\n",
    "    compName='Amazon'\n",
    "    def __init__(self,id):\n",
    "        self.id=id\n",
    "e=Employee(101)\n",
    "print(e.compName)\n",
    "print(e.id)\n",
    "print(Employee.compName)"
   ]
  },
  {
   "cell_type": "code",
   "execution_count": 10,
   "id": "e617aa0f",
   "metadata": {},
   "outputs": [
    {
     "name": "stdout",
     "output_type": "stream",
     "text": [
      "Mayank\n",
      "Data analyst\n",
      "INDIA\n"
     ]
    }
   ],
   "source": [
    "class Employee:\n",
    "    compName='Tesla'\n",
    "    def __init__(self,id):\n",
    "        self.id=id\n",
    "    def fun(self,n):\n",
    "        self.name=n\n",
    "e=Employee(101)\n",
    "e.fun('Mayank')\n",
    "print(e.name)\n",
    "e.designation='Data analyst'\n",
    "print(e.designation)\n",
    "e.office='INDIA'\n",
    "print(e.office)"
   ]
  },
  {
   "cell_type": "markdown",
   "id": "2095e2b5",
   "metadata": {},
   "source": [
    "## Class Members Access"
   ]
  },
  {
   "cell_type": "markdown",
   "id": "c0eee822",
   "metadata": {},
   "source": [
    "### 1] In python, every member is accessible everywhere."
   ]
  },
  {
   "cell_type": "code",
   "execution_count": 13,
   "id": "0efb9517",
   "metadata": {},
   "outputs": [
    {
     "name": "stdout",
     "output_type": "stream",
     "text": [
      "10\n",
      "20\n",
      "Hi\n"
     ]
    }
   ],
   "source": [
    "class Test:\n",
    "    def __init__(self,x,y):\n",
    "        self.x=x\n",
    "        self.y=y\n",
    "    def fun(self):\n",
    "        print('Hi')\n",
    "t=Test(10,20)\n",
    "print(t.x)\n",
    "print(t.y)\n",
    "t.fun()"
   ]
  },
  {
   "cell_type": "markdown",
   "id": "1e1390d2",
   "metadata": {},
   "source": [
    "### 2] When we use underscore before a variable name, it is suggested not to used it outside the class."
   ]
  },
  {
   "cell_type": "code",
   "execution_count": 15,
   "id": "350dbea4",
   "metadata": {},
   "outputs": [
    {
     "name": "stdout",
     "output_type": "stream",
     "text": [
      "10\n",
      "20\n",
      "Hi\n"
     ]
    }
   ],
   "source": [
    "class Test:\n",
    "    def __init__(self,x,y):\n",
    "        self.x=x\n",
    "        self.y=y\n",
    "    def _fun(self):\n",
    "        print('Hi')\n",
    "t=Test(10,20)\n",
    "print(t.x)\n",
    "print(t.y)\n",
    "t._fun()"
   ]
  },
  {
   "cell_type": "markdown",
   "id": "fb1d652c",
   "metadata": {},
   "source": [
    "### 3] When we use two underscores before member means, it becomes inaccessible."
   ]
  },
  {
   "cell_type": "code",
   "execution_count": 16,
   "id": "3d276415",
   "metadata": {},
   "outputs": [
    {
     "ename": "AttributeError",
     "evalue": "'Test' object has no attribute '__x'",
     "output_type": "error",
     "traceback": [
      "\u001b[1;31m---------------------------------------------------------------------------\u001b[0m",
      "\u001b[1;31mAttributeError\u001b[0m                            Traceback (most recent call last)",
      "\u001b[1;32m~\\AppData\\Local\\Temp\\ipykernel_10608\\1844548402.py\u001b[0m in \u001b[0;36m<module>\u001b[1;34m\u001b[0m\n\u001b[0;32m      6\u001b[0m         \u001b[0mprint\u001b[0m\u001b[1;33m(\u001b[0m\u001b[1;34m'Hi'\u001b[0m\u001b[1;33m)\u001b[0m\u001b[1;33m\u001b[0m\u001b[1;33m\u001b[0m\u001b[0m\n\u001b[0;32m      7\u001b[0m \u001b[0mt\u001b[0m\u001b[1;33m=\u001b[0m\u001b[0mTest\u001b[0m\u001b[1;33m(\u001b[0m\u001b[1;36m10\u001b[0m\u001b[1;33m,\u001b[0m\u001b[1;36m20\u001b[0m\u001b[1;33m)\u001b[0m\u001b[1;33m\u001b[0m\u001b[1;33m\u001b[0m\u001b[0m\n\u001b[1;32m----> 8\u001b[1;33m \u001b[0mprint\u001b[0m\u001b[1;33m(\u001b[0m\u001b[0mt\u001b[0m\u001b[1;33m.\u001b[0m\u001b[0m__x\u001b[0m\u001b[1;33m)\u001b[0m\u001b[1;33m\u001b[0m\u001b[1;33m\u001b[0m\u001b[0m\n\u001b[0m\u001b[0;32m      9\u001b[0m \u001b[0mprint\u001b[0m\u001b[1;33m(\u001b[0m\u001b[0mt\u001b[0m\u001b[1;33m.\u001b[0m\u001b[0my\u001b[0m\u001b[1;33m)\u001b[0m\u001b[1;33m\u001b[0m\u001b[1;33m\u001b[0m\u001b[0m\n\u001b[0;32m     10\u001b[0m \u001b[0mt\u001b[0m\u001b[1;33m.\u001b[0m\u001b[0m__fun\u001b[0m\u001b[1;33m(\u001b[0m\u001b[1;33m)\u001b[0m\u001b[1;33m\u001b[0m\u001b[1;33m\u001b[0m\u001b[0m\n",
      "\u001b[1;31mAttributeError\u001b[0m: 'Test' object has no attribute '__x'"
     ]
    }
   ],
   "source": [
    "class Test:\n",
    "    def __init__(self,x,y):\n",
    "        self.__x=x\n",
    "        self.y=y\n",
    "    def __fun(self):\n",
    "        print('Hi')\n",
    "t=Test(10,20)\n",
    "print(t.__x)\n",
    "print(t.y)\n",
    "t.__fun()"
   ]
  },
  {
   "cell_type": "markdown",
   "id": "8c8f3102",
   "metadata": {},
   "source": [
    "### 4] Private members can be accessed within the class."
   ]
  },
  {
   "cell_type": "code",
   "execution_count": 21,
   "id": "2bb40ece",
   "metadata": {},
   "outputs": [
    {
     "name": "stdout",
     "output_type": "stream",
     "text": [
      "10\n",
      "19\n"
     ]
    }
   ],
   "source": [
    "class Test:\n",
    "    def __init__(self,x):\n",
    "        self.x=x\n",
    "        self.__y=19\n",
    "    def printTest(self):\n",
    "        print(self.x)\n",
    "        print(self.__y)\n",
    "t=Test(10)\n",
    "t.printTest()"
   ]
  },
  {
   "cell_type": "markdown",
   "id": "1c29f22f",
   "metadata": {},
   "source": [
    "## Decorators"
   ]
  },
  {
   "cell_type": "code",
   "execution_count": 1,
   "id": "e662855d",
   "metadata": {},
   "outputs": [
    {
     "name": "stdout",
     "output_type": "stream",
     "text": [
      "Welcome\n",
      "User\n"
     ]
    }
   ],
   "source": [
    "def decFunc(f):\n",
    "    def innerFunc():\n",
    "        print('Welcome')\n",
    "        f()\n",
    "    return innerFunc\n",
    "def fun():\n",
    "    print('User')\n",
    "fun=decFunc(fun)\n",
    "fun()\n"
   ]
  },
  {
   "cell_type": "markdown",
   "id": "f7eb2aa4",
   "metadata": {},
   "source": [
    "## Class Methods"
   ]
  },
  {
   "cell_type": "code",
   "execution_count": 2,
   "id": "a7d64f70",
   "metadata": {},
   "outputs": [
    {
     "name": "stdout",
     "output_type": "stream",
     "text": [
      "Mayank\n",
      "23\n"
     ]
    }
   ],
   "source": [
    "from datetime import date\n",
    "class Employee:\n",
    "    def __init__(self,name,age):\n",
    "        self.name=name\n",
    "        self.age=age\n",
    "    @classmethod\n",
    "    def getAgeFromBirthYear(cls,name,year):\n",
    "        return cls(name,date.today().year-year)\n",
    "e=Employee.getAgeFromBirthYear('Mayank',2000)\n",
    "print(e.name)\n",
    "print(e.age)"
   ]
  },
  {
   "cell_type": "markdown",
   "id": "1d735862",
   "metadata": {},
   "source": [
    "## Inheritance"
   ]
  },
  {
   "cell_type": "code",
   "execution_count": 6,
   "id": "9890441f",
   "metadata": {},
   "outputs": [
    {
     "name": "stdout",
     "output_type": "stream",
     "text": [
      "101\n",
      "Mayank\n",
      "90000\n"
     ]
    }
   ],
   "source": [
    "class Person:\n",
    "    def __init__(self,id,name):\n",
    "        self.id=id\n",
    "        self.name=name\n",
    "class Employee(Person):\n",
    "    def __init__(self,id,name,salary):\n",
    "        super().__init__(id,name)\n",
    "        self.salary=salary\n",
    "    def printDetails(self):\n",
    "        print(self.id)\n",
    "        print(self.name)\n",
    "        print(self.salary)\n",
    "e=Employee(101,'Mayank',90000)\n",
    "e.printDetails()"
   ]
  },
  {
   "cell_type": "markdown",
   "id": "4606ff56",
   "metadata": {},
   "source": [
    "## Multi-level Inheritance"
   ]
  },
  {
   "cell_type": "code",
   "execution_count": 11,
   "id": "fe0679ca",
   "metadata": {},
   "outputs": [
    {
     "name": "stdout",
     "output_type": "stream",
     "text": [
      "101\n",
      "Mayank\n",
      "90000\n",
      "15%\n"
     ]
    }
   ],
   "source": [
    "class Person:\n",
    "    def __init__(self,id,name):\n",
    "        self.id=id\n",
    "        self.name=name\n",
    "    def printDetails(self):\n",
    "        print(self.id)\n",
    "        print(self.name)\n",
    "class Employee(Person):\n",
    "    def __init__(self,id,name,salary):\n",
    "        super().__init__(id,name)\n",
    "        self.salary=salary\n",
    "    def printDetails(self):\n",
    "        super().printDetails()\n",
    "        print(self.salary)\n",
    "class EmployeeTax(Employee):\n",
    "    def __init__(self,id,name,salary,tax):\n",
    "        super().__init__(id,name,salary)\n",
    "        self.tax=tax\n",
    "    def printDetails(self):\n",
    "        super().printDetails()\n",
    "        print(self.tax)\n",
    "e=EmployeeTax(101,'Mayank',90000,'15%')\n",
    "e.printDetails()"
   ]
  },
  {
   "cell_type": "markdown",
   "id": "46bf5155",
   "metadata": {},
   "source": [
    "## Polymorphism"
   ]
  },
  {
   "cell_type": "code",
   "execution_count": 12,
   "id": "5c5f3f55",
   "metadata": {},
   "outputs": [
    {
     "name": "stdout",
     "output_type": "stream",
     "text": [
      "10\n",
      "20\n"
     ]
    }
   ],
   "source": [
    "def fun(l):\n",
    "    for x in l:\n",
    "        print(x)\n",
    "fun([10,20])"
   ]
  },
  {
   "cell_type": "code",
   "execution_count": 13,
   "id": "39c77c4c",
   "metadata": {},
   "outputs": [
    {
     "name": "stdout",
     "output_type": "stream",
     "text": [
      "10\n",
      "20\n",
      "30\n"
     ]
    }
   ],
   "source": [
    "def func(t):\n",
    "    for x in t:\n",
    "        print(x)\n",
    "func((10,20,30))"
   ]
  },
  {
   "cell_type": "code",
   "execution_count": 18,
   "id": "5937ffaa",
   "metadata": {},
   "outputs": [
    {
     "name": "stdout",
     "output_type": "stream",
     "text": [
      "1011\n",
      "Mayank\n",
      "1011\n",
      "Tinu\n",
      "95000\n"
     ]
    }
   ],
   "source": [
    "# Method overriding\n",
    "class Person:\n",
    "    def __init__(self,id,name):\n",
    "        self.id=id\n",
    "        self.name=name\n",
    "    def printDetails(self):\n",
    "        print(self.id)\n",
    "        print(self.name)\n",
    "class Employee(Person):\n",
    "    def __init__(self,id,name,salary):\n",
    "        super().__init__(id,name)\n",
    "        self.salary=salary\n",
    "    def printDetails(self):\n",
    "        super().printDetails()\n",
    "        print(self.salary)\n",
    "i=[Person(1011,'Mayank'),Employee(1011,'Tinu',95000)]\n",
    "for x in i:\n",
    "    x.printDetails()"
   ]
  },
  {
   "cell_type": "markdown",
   "id": "ee061600",
   "metadata": {},
   "source": [
    "## Operator Overloading\n"
   ]
  },
  {
   "cell_type": "code",
   "execution_count": 20,
   "id": "9a8dae09",
   "metadata": {},
   "outputs": [
    {
     "name": "stdout",
     "output_type": "stream",
     "text": [
      "3500\n"
     ]
    }
   ],
   "source": [
    "class Product:\n",
    "    def __init__(self,name,price):\n",
    "        self.name=name\n",
    "        self.price=price\n",
    "    def __add__(self,other):\n",
    "        return self.price+other.price\n",
    "p1=Product('Mouse',1500)\n",
    "p2=Product('Keyboard',2000)\n",
    "print(p1+p2)"
   ]
  },
  {
   "cell_type": "markdown",
   "id": "667daaf9",
   "metadata": {},
   "source": [
    "## Abstract Class"
   ]
  },
  {
   "cell_type": "code",
   "execution_count": 22,
   "id": "c78d8012",
   "metadata": {},
   "outputs": [
    {
     "name": "stdout",
     "output_type": "stream",
     "text": [
      "There are three sides.\n"
     ]
    }
   ],
   "source": [
    "from abc import ABC, abstractmethod\n",
    "class Polygon(ABC):\n",
    "    def __init__(self,color):\n",
    "        self.color=color\n",
    "\n",
    "    @abstractmethod\n",
    "    def printSides(self):\n",
    "        pass\n",
    "class Triangle(Polygon):\n",
    "    def __init__(self,color):\n",
    "        super().__init__(color)\n",
    "    def printSides(self):\n",
    "        print('There are three sides.')\n",
    "a=Triangle('Red')\n",
    "a.printSides()"
   ]
  },
  {
   "cell_type": "code",
   "execution_count": null,
   "id": "5c61667b",
   "metadata": {},
   "outputs": [],
   "source": []
  }
 ],
 "metadata": {
  "kernelspec": {
   "display_name": "Python 3 (ipykernel)",
   "language": "python",
   "name": "python3"
  },
  "language_info": {
   "codemirror_mode": {
    "name": "ipython",
    "version": 3
   },
   "file_extension": ".py",
   "mimetype": "text/x-python",
   "name": "python",
   "nbconvert_exporter": "python",
   "pygments_lexer": "ipython3",
   "version": "3.9.13"
  }
 },
 "nbformat": 4,
 "nbformat_minor": 5
}
